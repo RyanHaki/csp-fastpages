{
 "cells": [
  {
   "cell_type": "markdown",
   "metadata": {},
   "source": [
    "# Java Script Kernel Post\n",
    "> Using Jupyter JavaScript kernel\n",
    "\n",
    "- title: Java Script Kernel Post\n",
    "- toc: true\n",
    "- permalink: /JavaScript_Kernel\n",
    "- categories: [jupyter, Week 3]\n",
    "- tags: [JavaScript]"
   ]
  },
  {
   "cell_type": "markdown",
   "metadata": {},
   "source": [
    "## JavaScript Code\n",
    "The codes below all use the JavaScript language in order to perform something.\n",
    "\n",
    "### Function\n",
    "This code defines a function and takes 2 numbers as a parameter and returns the product of the 2 numbers."
   ]
  },
  {
   "cell_type": "code",
   "execution_count": 15,
   "metadata": {
    "vscode": {
     "languageId": "javascript"
    }
   },
   "outputs": [
    {
     "ename": "SyntaxError",
     "evalue": "invalid syntax (1914311761.py, line 1)",
     "output_type": "error",
     "traceback": [
      "\u001b[0;36m  Input \u001b[0;32mIn [15]\u001b[0;36m\u001b[0m\n\u001b[0;31m    let x = myFunction(4, 3);   // Function is called, return value will end up in x\u001b[0m\n\u001b[0m        ^\u001b[0m\n\u001b[0;31mSyntaxError\u001b[0m\u001b[0;31m:\u001b[0m invalid syntax\n"
     ]
    }
   ],
   "source": [
    "function Multiplication(a, b) {\n",
    "    return a * b;\n",
    "  }\n",
    "  Multiplication(125,5)"
   ]
  },
  {
   "cell_type": "markdown",
   "metadata": {},
   "source": [
    "## Temperature\n",
    "The code below takes an integer input that we assume is the degrees in Fahrenheit and then determines the code in Celsius."
   ]
  },
  {
   "cell_type": "code",
   "execution_count": 12,
   "metadata": {
    "vscode": {
     "languageId": "javascript"
    }
   },
   "outputs": [
    {
     "ename": "SyntaxError",
     "evalue": "invalid syntax (2579807814.py, line 1)",
     "output_type": "error",
     "traceback": [
      "\u001b[0;36m  Input \u001b[0;32mIn [12]\u001b[0;36m\u001b[0m\n\u001b[0;31m    function Celcius(Fahrenheit) {\u001b[0m\n\u001b[0m             ^\u001b[0m\n\u001b[0;31mSyntaxError\u001b[0m\u001b[0;31m:\u001b[0m invalid syntax\n"
     ]
    }
   ],
   "source": [
    "function Celcius(Fahrenheit) {\n",
    "    return (5/9) * (Fahrenheit-32);\n",
    "  }\n",
    "\n",
    "Celsius(0)"
   ]
  },
  {
   "cell_type": "markdown",
   "metadata": {},
   "source": [
    "## Even/Odd Number\n",
    "This code contains a function that takes one number as the parameter. Then, it determines if the number is even or odd based on the remainer when divided by 2."
   ]
  },
  {
   "cell_type": "code",
   "execution_count": 13,
   "metadata": {
    "vscode": {
     "languageId": "javascript"
    }
   },
   "outputs": [
    {
     "ename": "SyntaxError",
     "evalue": "invalid syntax (1926867949.py, line 1)",
     "output_type": "error",
     "traceback": [
      "\u001b[0;36m  Input \u001b[0;32mIn [13]\u001b[0;36m\u001b[0m\n\u001b[0;31m    function IsOdd(x){\u001b[0m\n\u001b[0m             ^\u001b[0m\n\u001b[0;31mSyntaxError\u001b[0m\u001b[0;31m:\u001b[0m invalid syntax\n"
     ]
    }
   ],
   "source": [
    "function IsOdd(x){\n",
    "    if (x % 2 == 0) {\n",
    "        console.log(x + \" is an even number\");\n",
    "    }  else {\n",
    "       console.log(x + \" is an odd number\");\n",
    "    }\n",
    "    \n",
    "    }\n",
    "    IsOdd(24)"
   ]
  },
  {
   "cell_type": "markdown",
   "metadata": {},
   "source": [
    "## Time\n",
    "This code contains a function that takes one number as the parameter and we assume it to be the number of hours. Then, the code determines many days, minutes, and seconds those hours are equivalent to."
   ]
  },
  {
   "cell_type": "code",
   "execution_count": 14,
   "metadata": {
    "vscode": {
     "languageId": "javascript"
    }
   },
   "outputs": [
    {
     "ename": "SyntaxError",
     "evalue": "invalid syntax (3006558337.py, line 1)",
     "output_type": "error",
     "traceback": [
      "\u001b[0;36m  Input \u001b[0;32mIn [14]\u001b[0;36m\u001b[0m\n\u001b[0;31m    function DaysHoursMinutesSeconds(x){\u001b[0m\n\u001b[0m             ^\u001b[0m\n\u001b[0;31mSyntaxError\u001b[0m\u001b[0;31m:\u001b[0m invalid syntax\n"
     ]
    }
   ],
   "source": [
    "function DaysHoursMinutesSeconds(x){\n",
    "    console.log(x + \" hour(s) is equivalent to \" + x/24 + \" days, \" + x*60 + \" minutes, and \" + x*3600 + \" seconds.\")\n",
    "}\n",
    "DaysHoursMinutesSeconds(48)"
   ]
  }
 ],
 "metadata": {
  "kernelspec": {
   "display_name": "Python 3.9.12 ('base')",
   "language": "python",
   "name": "python3"
  },
  "language_info": {
   "codemirror_mode": {
    "name": "ipython",
    "version": 3
   },
   "file_extension": ".py",
   "mimetype": "text/x-python",
   "name": "python",
   "nbconvert_exporter": "python",
   "pygments_lexer": "ipython3",
   "version": "3.9.12"
  },
  "orig_nbformat": 4,
  "vscode": {
   "interpreter": {
    "hash": "0f30f52230e98a66701697f317046da00ce2cde01feb9a5533ae28cf5631ecd9"
   }
  }
 },
 "nbformat": 4,
 "nbformat_minor": 2
}
