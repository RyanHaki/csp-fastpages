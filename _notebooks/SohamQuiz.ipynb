{
 "cells": [
  {
   "cell_type": "markdown",
   "metadata": {},
   "source": [
    "# My Quiz\n",
    "> My Quiz on Basketball\n",
    "\n",
    "- toc: true \n",
    "- badges: true\n",
    "- comments: true\n",
    "- categories: [jupyter]"
   ]
  },
  {
   "cell_type": "code",
   "execution_count": 2,
   "metadata": {},
   "outputs": [
    {
     "name": "stdout",
     "output_type": "stream",
     "text": [
      "Hello, soham running /usr/bin/python3\n",
      "You will be asked 5 questions.\n",
      "Question: Are you ready to take a test?\n",
      "Answer: yes\n",
      "Question: Who is the leader for all time points scored in the NBA?\n",
      "Kareem Abdul Jabbar is correct!\n",
      "Question: Who is the leader for all time 3-pointers made in the NBA?\n",
      " is incorrect!\n",
      "Question: Who is the leader for all time steals in the NBA?\n",
      " is incorrect!\n",
      "Question: Who is the leader for all time steals in the NBA?\n",
      " is incorrect!\n",
      "Question: Who is the leader for all time rebounds in the NBA?\n",
      " is incorrect!\n",
      "soham you scored 1/5\n"
     ]
    }
   ],
   "source": [
    "import getpass, sys\n",
    "\n",
    "def question_and_answer(prompt):\n",
    "    print(\"Question: \" + prompt)\n",
    "    msg = input()\n",
    "    print(\"Answer: \" + msg)\n",
    "    \n",
    "def question_with_response(prompt):\n",
    "    print(\"Question: \" + prompt)\n",
    "    msg = input()\n",
    "    return msg\n",
    "\n",
    "questions = 5\n",
    "correct = 0\n",
    "\n",
    "print('Hello, ' + getpass.getuser() + \" running \" + sys.executable)\n",
    "print(\"You will be asked \" + str(questions) + \" questions.\")\n",
    "question_and_answer(\"Are you ready to take a test?\")\n",
    "\n",
    "rsp = question_with_response(\"Who is the leader for all time points scored in the NBA?\")\n",
    "if rsp == \"Kareem Abdul Jabbar\":\n",
    "    print(rsp + \" is correct!\")\n",
    "    correct += 1\n",
    "else:\n",
    "    print(rsp + \" is incorrect!\")\n",
    "\n",
    "rsp = question_with_response(\"Who is the leader for all time 3-pointers made in the NBA?\")\n",
    "if rsp == \"Stephen Curry\":\n",
    "    print(rsp + \" is correct!\")\n",
    "    correct += 1\n",
    "else:\n",
    "    print(rsp + \" is incorrect!\")\n",
    "\n",
    "rsp = question_with_response(\"Who is the leader for all time steals in the NBA?\")\n",
    "if rsp == \"John Stockton\":\n",
    "    print(rsp + \" is correct!\")\n",
    "    correct += 1\n",
    "else:\n",
    "    print(rsp + \" is incorrect!\")\n",
    "\n",
    "rsp = question_with_response(\"Who is the leader for all time steals in the NBA?\")\n",
    "if rsp == \"John Stockton\":\n",
    "    print(rsp + \" is correct!\")\n",
    "    correct += 1\n",
    "else:\n",
    "    print(rsp + \" is incorrect!\")\n",
    "\n",
    "rsp = question_with_response(\"Who is the leader for all time rebounds in the NBA?\")\n",
    "if rsp == \"Wilt Chanberlain\":\n",
    "    print(rsp + \" is correct!\")\n",
    "    correct += 1\n",
    "else:\n",
    "    print(rsp + \" is incorrect!\")\n",
    "\n",
    "print(getpass.getuser() + \" you scored \" + str(correct) +\"/\" + str(questions))"
   ]
  }
 ],
 "metadata": {
  "kernelspec": {
   "display_name": "Python 3.8.10 64-bit",
   "language": "python",
   "name": "python3"
  },
  "language_info": {
   "codemirror_mode": {
    "name": "ipython",
    "version": 3
   },
   "file_extension": ".py",
   "mimetype": "text/x-python",
   "name": "python",
   "nbconvert_exporter": "python",
   "pygments_lexer": "ipython3",
   "version": "3.8.10"
  },
  "orig_nbformat": 4,
  "vscode": {
   "interpreter": {
    "hash": "31f2aee4e71d21fbe5cf8b01ff0e069b9275f58929596ceb00d14d90e3e16cd6"
   }
  }
 },
 "nbformat": 4,
 "nbformat_minor": 2
}
