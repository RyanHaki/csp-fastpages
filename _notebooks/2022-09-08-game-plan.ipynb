{
 "cells": [
  {
   "cell_type": "markdown",
   "metadata": {},
   "source": [
    "# My Game Brainstorm & Code\n",
    "> Details of my YouTube Quiz\n",
    "\n",
    "- title: YouTube Quiz\n",
    "- toc: true\n",
    "- permalink: /YouTube_Quiz\n",
    "- categories: [jupyter, Week 3]\n",
    "- tags: [python]"
   ]
  },
  {
   "cell_type": "markdown",
   "metadata": {},
   "source": [
    "# Initial Idea\n",
    "My Quiz was based on the extremely popular video sharing website known as YouTube. It contains 3 multiple-choice questions.\n",
    "\n",
    "**Bold** = correct answer\n",
    "\n",
    "Q1: What is the most disliked video on YouTube?\n",
    "\n",
    "A: Everyday Bro B: So Sorry **C: YouTube Rewind 2018** D: Egg Video\n",
    "\n",
    "Q2: Where does the first video on YouTube take place?\n",
    "\n",
    "A: Eiffel Tower **B: San Diego Zoo** C: Statue of Liberty D: Bronx Zoo\n",
    "\n",
    "Q3: What is the most viewed video on YouTube?\n",
    "\n",
    "A: Gangnam Style **B: Baby Shark** C: Hello D: Despacito\n",
    "\n",
    "![]({{ site.baseurl }}/images/YouTubeLogo.png \"YouTube's logo\")"
   ]
  },
  {
   "cell_type": "markdown",
   "metadata": {},
   "source": [
    "# My Original Code\n",
    "This is what I used to first start my quiz. It worked well but it didn't have a \"Incorrect\" screen that it redirected to if there was a question that was answered incorrectly. It was also not efficient. It had a \"onEvent\" block for every possible answer so it was messy and inefficient."
   ]
  },
  {
   "cell_type": "code",
   "execution_count": null,
   "metadata": {
    "vscode": {
     "languageId": "javascript"
    }
   },
   "outputs": [],
   "source": [
    "var score = 0;\n",
    "var question = 0;\n",
    "console.log(score);\n",
    "console.log(\"question: \" + question);\n",
    "onEvent(\"StartButton\", \"click\", function(change_screen) {\n",
    "    setScreen(\"Question1Screen\");\n",
    "    question = question + 1;\n",
    "  });\n",
    "onEvent(\"Dislike1\", \"click\", function() {\n",
    "    setScreen(\"Question2Screen\");\n",
    "  });\n",
    "onEvent(\"Dislike2\", \"click\", function() {\n",
    "    setScreen(\"Question2Screen\");\n",
    "  });\n",
    "onEvent(\"Dislike3\", \"click\", function() {\n",
    "    setScreen(\"Question2Screen\");\n",
    "    score = score + 1;\n",
    "    console.log(score);\n",
    "    question = question + 1;\n",
    "  });\n",
    "onEvent(\"Dislike4\", \"click\", function() {\n",
    "    setScreen(\"Question2Screen\");\n",
    "  });\n",
    "onEvent(\"Viewed1\", \"click\", function() {\n",
    "  \tsetScreen(\"Question3Screen\");\n",
    "  });\n",
    "onEvent(\"Viewed2\", \"click\", function() {\n",
    "    setScreen(\"finalscreen\");\n",
    "    score = score + 1;\n",
    "    console.log(score);\n",
    "    question = question + 1;\n",
    "    setText(\"text_area2\", \"You answered \" + (score + \"/3 questions correctly!\"));\n",
    "  });\n",
    "onEvent(\"Viewed3\", \"click\", function() {\n",
    "    setScreen(\"Question3Screen\");\n",
    "  });\n",
    "onEvent(\"Viewed4\", \"click\", function() {\n",
    "    setScreen(\"Question3Screen\");\n",
    "  });\n",
    "onEvent(\"Question2Answers\", \"change\", function( ) {\n",
    "  var Question2answer = getText(\"Question2Answers\");\n",
    "  if (Question2answer == \"The San Diego Zoo\") {\n",
    "    score = score + 1;\n",
    "    setScreen(\"Question3Screen\");\n",
    "    console.log(score);\n",
    "    question = question + 1;\n",
    "  } else {\n",
    "    setScreen(\"finalscreen\");\n",
    "    console.log(score);\n",
    "    question = question + 1;\n",
    "  }\n",
    "});\n"
   ]
  },
  {
   "cell_type": "markdown",
   "metadata": {},
   "source": [
    "# [My Final Code](https://studio.code.org/projects/applab/Q4CTuuE4Fx7MBo6xT4jvZK-VsLNxd-iYAe6f9VFoeHE)\n",
    "This is my final code. I added some If/Else Statements to get rid of most of the clutter. I also added Incorrect Screens for when you get a question wrong."
   ]
  },
  {
   "cell_type": "code",
   "execution_count": null,
   "metadata": {
    "vscode": {
     "languageId": "javascript"
    }
   },
   "outputs": [],
   "source": [
    "order = [\"Question1Screen\", \"Question2Screen\", \"Question3Screen\", \"finalscreen\"]\n",
    "// Functions\n",
    "function Incorrect_Next_Question() {\n",
    "  onEvent(\"nextquestion\", \"click\", function( ) {\n",
    "    questions = questions + 1;\n",
    "    setScreen(order[questions])\n",
    "  });\n",
    "}\n",
    "// Variables\n",
    "var questions = 0\n",
    "var score = 0;\n",
    "console.log(score);\n",
    "onEvent(\"StartButton\", \"click\", function(change_screen) {\n",
    "    setScreen(\"Question1Screen\");\n",
    "    // Question 1 Code\n",
    "    onEvent(\"Dislike3\", \"click\", function( ) {\n",
    "      setScreen(\"Question2Screen\");\n",
    "      score = score + 1;\n",
    "      console.log(score);\n",
    "      order = order + 1;\n",
    "    });\n",
    "    onEvent(\"Dislike1\", \"click\", function() {\n",
    "      setScreen(\"IncorrectScreen\");\n",
    "      Incorrect_Next_Question()\n",
    "    });\n",
    "    onEvent(\"Dislike2\", \"click\", function( ) {\n",
    "      setScreen(\"IncorrectScreen\");\n",
    "      Incorrect_Next_Question()\n",
    "    });\n",
    "    onEvent(\"Dislike4\", \"click\", function( ) {\n",
    "      setScreen(\"IncorrectScreen\");\n",
    "      Incorrect_Next_Question()\n",
    "    });\n",
    "    // Question 2 Code\n",
    "    onEvent(\"Question2Answers\", \"change\", function( ) {\n",
    "      var Question2answer = getText(\"Question2Answers\");\n",
    "      if (Question2answer == \"The San Diego Zoo\") {\n",
    "        score = score + 1;\n",
    "        setScreen(\"Question3Screen\");\n",
    "        order = order + 1;\n",
    "        console.log(score);\n",
    "      } else {\n",
    "        setScreen(\"IncorrectScreen\");\n",
    "        Incorrect_Next_Question()\n",
    "        console.log(score);\n",
    "      }\n",
    "    });\n",
    "    // Question 3 Code\n",
    "    onEvent(\"Viewed2\", \"click\", function( ) {\n",
    "        setScreen(\"finalscreen\");\n",
    "        if (score == 3) {\n",
    "          setText(\"Encouragement\", \"Wow, you got a perfect score!\");\n",
    "        } else {\n",
    "          if (score == 2) {\n",
    "            setText(\"Encouragement\", \"Almost there. Keep trying to get 3/3!\");\n",
    "          } else {\n",
    "             if (score <= 1) {\n",
    "              setText(\"Encouragement\", \"Oops, I think you made a few mistakes.\");\n",
    "            }\n",
    "          }\n",
    "        }\n",
    "        console.log(score);\n",
    "        setText(\"text_area2\", \"You answered \" + (score + \"/3 questions correctly!\"));\n",
    "    });\n",
    "    onEvent(\"Viewed1\", \"click\", function() {\n",
    "      setScreen(\"finalscreen\");\n",
    "      setText(\"text_area2\", \"You answered \" + (score + \"/3 questions correctly!\"));\n",
    "    });\n",
    "    onEvent(\"Viewed3\", \"click\", function( ) {\n",
    "      setScreen(\"finalscreen\");\n",
    "      setText(\"text_area2\", \"You answered \" + (score + \"/3 questions correctly!\"));\n",
    "    });\n",
    "    onEvent(\"Viewed4\", \"click\", function( ) {\n",
    "      setScreen(\"finalscreen\");\n",
    "      setText(\"text_area2\", \"You answered \" + (score + \"/3 questions correctly!\"));\n",
    "    });\n",
    "  });\n",
    "  if (score == 3) {\n",
    "    setText(\"Encouragement\", \"Wow, you got a perfect score!\");\n",
    "  } else {\n",
    "    if (score == 2) {\n",
    "      setText(\"Encouragement\", \"Almost there. Keep trying to get 3/3!\");\n",
    "    } else {\n",
    "      if (score <= 1) {\n",
    "        setText(\"Encouragement\", \"Oops, I think you made a few mistakes.\");\n",
    "      }\n",
    "    }\n",
    "  }\n"
   ]
  },
  {
   "cell_type": "markdown",
   "metadata": {},
   "source": [
    "# Challenges I faced\n",
    "\n",
    "* I couldn't figure out how to use the or statements\n",
    "* I wasn't able to add radio buttons because they took too many commands to set up properly\n",
    "* I couldn't figure out how to copy code while it was in block form."
   ]
  },
  {
   "cell_type": "markdown",
   "metadata": {},
   "source": [
    "# Ways I could further improve my quiz\n",
    "\n",
    "* I could add background sound and add sounds when you answer questions correctly or incorrectly.\n",
    "* I could add transitions between questions.\n",
    "* I could add more questions but the assignment limited me to only 3."
   ]
  }
 ],
 "metadata": {
  "kernelspec": {
   "display_name": "Python 3.8.10 64-bit",
   "language": "python",
   "name": "python3"
  },
  "language_info": {
   "name": "python",
   "version": "3.8.10"
  },
  "orig_nbformat": 4,
  "vscode": {
   "interpreter": {
    "hash": "31f2aee4e71d21fbe5cf8b01ff0e069b9275f58929596ceb00d14d90e3e16cd6"
   }
  }
 },
 "nbformat": 4,
 "nbformat_minor": 2
}
