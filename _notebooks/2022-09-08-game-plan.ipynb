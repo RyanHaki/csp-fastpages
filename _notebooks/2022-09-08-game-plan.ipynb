{
 "cells": [
  {
   "cell_type": "markdown",
   "metadata": {},
   "source": [
    "# My Game Brainstorm & Code\n",
    "\n",
    "Themes: Minecraft, Fortnite, Youtube, Among Us, Spotify\n",
    "\n",
    "Chosen Theme: Youtube"
   ]
  },
  {
   "cell_type": "markdown",
   "metadata": {},
   "source": [
    "# This is my original code\n",
    "This is what I used to first start my quiz. It worked well but it didn't have a \"Incorrect\" screen that it redirected to if there was a question that was answered incorrectly. It was also not efficient. It had a \"onEvent\" block for every possible answer so it was messy and inefficient."
   ]
  },
  {
   "cell_type": "code",
   "execution_count": null,
   "metadata": {
    "vscode": {
     "languageId": "javascript"
    }
   },
   "outputs": [],
   "source": [
    "var score = 0;\n",
    "var question = 0;\n",
    "console.log(score);\n",
    "console.log(\"question: \" + question);\n",
    "onEvent(\"StartButton\", \"click\", function(change_screen) {\n",
    "    setScreen(\"Question1Screen\");\n",
    "    question = question + 1;\n",
    "  });\n",
    "onEvent(\"Dislike1\", \"click\", function() {\n",
    "    setScreen(\"Question2Screen\");\n",
    "  });\n",
    "onEvent(\"Dislike2\", \"click\", function() {\n",
    "    setScreen(\"Question2Screen\");\n",
    "  });\n",
    "onEvent(\"Dislike3\", \"click\", function() {\n",
    "    setScreen(\"Question2Screen\");\n",
    "    score = score + 1;\n",
    "    console.log(score);\n",
    "    question = question + 1;\n",
    "  });\n",
    "onEvent(\"Dislike4\", \"click\", function() {\n",
    "    setScreen(\"Question2Screen\");\n",
    "  });\n",
    "onEvent(\"Viewed1\", \"click\", function() {\n",
    "  \tsetScreen(\"Question3Screen\");\n",
    "  });\n",
    "onEvent(\"Viewed2\", \"click\", function() {\n",
    "    setScreen(\"finalscreen\");\n",
    "    score = score + 1;\n",
    "    console.log(score);\n",
    "    question = question + 1;\n",
    "    setText(\"text_area2\", \"You answered \" + (score + \"/3 questions correctly!\"));\n",
    "  });\n",
    "onEvent(\"Viewed3\", \"click\", function() {\n",
    "    setScreen(\"Question3Screen\");\n",
    "  });\n",
    "onEvent(\"Viewed4\", \"click\", function() {\n",
    "    setScreen(\"Question3Screen\");\n",
    "  });\n",
    "onEvent(\"Question2Answers\", \"change\", function( ) {\n",
    "  var Question2answer = getText(\"Question2Answers\");\n",
    "  if (Question2answer == \"The San Diego Zoo\") {\n",
    "    score = score + 1;\n",
    "    setScreen(\"Question3Screen\");\n",
    "    console.log(score);\n",
    "    question = question + 1;\n",
    "  } else {\n",
    "    setScreen(\"finalscreen\");\n",
    "    console.log(score);\n",
    "    question = question + 1;\n",
    "  }\n",
    "});\n"
   ]
  }
 ],
 "metadata": {
  "kernelspec": {
   "display_name": "Python 3.8.10 64-bit",
   "language": "python",
   "name": "python3"
  },
  "language_info": {
   "name": "python",
   "version": "3.8.10"
  },
  "orig_nbformat": 4,
  "vscode": {
   "interpreter": {
    "hash": "31f2aee4e71d21fbe5cf8b01ff0e069b9275f58929596ceb00d14d90e3e16cd6"
   }
  }
 },
 "nbformat": 4,
 "nbformat_minor": 2
}
